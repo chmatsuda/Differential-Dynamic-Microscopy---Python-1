{
 "cells": [
  {
   "cell_type": "markdown",
   "metadata": {},
   "source": [
    "# Fitting Analysis, post FFTS\n"
   ]
  },
  {
   "cell_type": "markdown",
   "metadata": {},
   "source": [
    "To begin we need to load in the data that we want to fit. Load in all of the FFTs for the condition that will be analyzed. We will then average the ROIs for the condition and then find the diffusion coefficient for each of the averaged ROI regions.\n"
   ]
  },
  {
   "cell_type": "code",
   "execution_count": 3,
   "metadata": {
    "collapsed": false
   },
   "outputs": [],
   "source": [
    "#Import all of the necessary packages\n",
    "import numpy as np\n",
    "import matplotlib\n",
    "import matplotlib.pyplot as plt\n",
    "from IPython.html.widgets import interact, fixed\n",
    "import ipywidgets as widgets\n",
    "\n",
    "import io\n",
    "\n",
    "font_plt = {'family': 'serif',\n",
    "            'color':  'darkred',\n",
    "            'weight': 'normal',\n",
    "            'size': 10,\n",
    "            }\n",
    "font_plt_ax = {'family': 'serif',\n",
    "               'color':  'black',\n",
    "               'weight': 'normal',\n",
    "               'size': 10,\n",
    "              }\n",
    "import sys\n",
    "import glob #glob is helpful for searching for filenames or directories\n",
    "import ddm_clean as ddm #this is the module containing the differential dynamic microscopy code\n",
    "import scipy #scientific python\n",
    "from scipy.signal import blackmanharris as bh #for Blackman-Harris windowing\n",
    "import pickle #for saving data"
   ]
  },
  {
   "cell_type": "code",
   "execution_count": 5,
   "metadata": {
    "collapsed": false
   },
   "outputs": [],
   "source": [
    "newt = lambda t,s: (1./s)*gamma(1./s)*t\n",
    "framerate = 20 \n",
    "px = 0.189\n",
    "imDimension = 128"
   ]
  },
  {
   "cell_type": "code",
   "execution_count": 6,
   "metadata": {
    "collapsed": true
   },
   "outputs": [],
   "source": [
    "# You only need to initialize this once for the condition (you will pickle dump it at the end) \n",
    "AvgROIs = {}"
   ]
  },
  {
   "cell_type": "code",
   "execution_count": 7,
   "metadata": {
    "collapsed": true
   },
   "outputs": [],
   "source": [
    "# different ROIs and the video number, change samNumber based upon the number of videos taken for the condition\n",
    "con = ['0', '128', '256', '384', '512', '640', '768', '896']\n",
    "samNumber = ['1','2','3','4','5','6','7','8']\n",
    "Sample = ['11.6uMact_monomers_0.02mgml', ]\n",
    "num = 0"
   ]
  },
  {
   "cell_type": "code",
   "execution_count": 27,
   "metadata": {
    "collapsed": false
   },
   "outputs": [],
   "source": [
    "# only need to do once for every ROI\n",
    "ravROI = np.zeros((len(samNumber), 400, 63))"
   ]
  },
  {
   "cell_type": "code",
   "execution_count": 26,
   "metadata": {
    "collapsed": false
   },
   "outputs": [
    {
     "ename": "IOError",
     "evalue": "[Errno 2] No such file or directory: 'Z:\\\\2018-05-29_DNA_data-to-use\\\\11.6uMact_monomers_0.02mgml_29fps_34exp_1\\\\11.6uMact_monomers_0.02mgml_29fps_34exp_2_MMStack_Pos0.ome_384_BH_128x128_FFTDIFFS_dts_ravs.p'",
     "output_type": "error",
     "traceback": [
      "\u001b[1;31m---------------------------------------------------------------------------\u001b[0m",
      "\u001b[1;31mIOError\u001b[0m                                   Traceback (most recent call last)",
      "\u001b[1;32m<ipython-input-26-850a0fcb6fb4>\u001b[0m in \u001b[0;36m<module>\u001b[1;34m()\u001b[0m\n\u001b[0;32m      2\u001b[0m \u001b[0mdata_dir\u001b[0m \u001b[1;33m=\u001b[0m \u001b[1;34m\"Z:\\\\2018-05-29_DNA_data-to-use\\\\11.6uMact_monomers_0.02mgml_29fps_34exp_1\\\\\"\u001b[0m\u001b[1;33m\u001b[0m\u001b[0m\n\u001b[0;32m      3\u001b[0m \u001b[0mdata_file\u001b[0m \u001b[1;33m=\u001b[0m \u001b[1;34m\"11.6uMact_monomers_0.02mgml_29fps_34exp_2_MMStack_Pos0.ome_384_BH_128x128_FFTDIFFS_dts_ravs.p\"\u001b[0m\u001b[1;33m\u001b[0m\u001b[0m\n\u001b[1;32m----> 4\u001b[1;33m \u001b[0mdat\u001b[0m \u001b[1;33m=\u001b[0m \u001b[0mpickle\u001b[0m\u001b[1;33m.\u001b[0m\u001b[0mload\u001b[0m\u001b[1;33m(\u001b[0m\u001b[0mopen\u001b[0m\u001b[1;33m(\u001b[0m\u001b[0mdata_dir\u001b[0m \u001b[1;33m+\u001b[0m \u001b[0mdata_file\u001b[0m\u001b[1;33m,\u001b[0m\u001b[1;34m'r'\u001b[0m\u001b[1;33m)\u001b[0m\u001b[1;33m)\u001b[0m\u001b[1;33m\u001b[0m\u001b[0m\n\u001b[0m\u001b[0;32m      5\u001b[0m \u001b[0mravs\u001b[0m \u001b[1;33m=\u001b[0m \u001b[0mdat\u001b[0m\u001b[1;33m[\u001b[0m\u001b[1;34m'ravs'\u001b[0m\u001b[1;33m]\u001b[0m\u001b[1;33m\u001b[0m\u001b[0m\n\u001b[0;32m      6\u001b[0m \u001b[0mdts\u001b[0m  \u001b[1;33m=\u001b[0m \u001b[0mdat\u001b[0m\u001b[1;33m[\u001b[0m\u001b[1;34m'dts'\u001b[0m\u001b[1;33m]\u001b[0m\u001b[1;33m\u001b[0m\u001b[0m\n",
      "\u001b[1;31mIOError\u001b[0m: [Errno 2] No such file or directory: 'Z:\\\\2018-05-29_DNA_data-to-use\\\\11.6uMact_monomers_0.02mgml_29fps_34exp_1\\\\11.6uMact_monomers_0.02mgml_29fps_34exp_2_MMStack_Pos0.ome_384_BH_128x128_FFTDIFFS_dts_ravs.p'"
     ]
    }
   ],
   "source": [
    "# Change the directory or data file and change the condition number so the average ROI list can be iterated over\n",
    "data_dir = \"Z:\\\\2018-05-29_DNA_data-to-use\\\\\"+Sample[num]+\"_29fps_34exp_1\\\\\"\n",
    "data_file = Sample[num]+\"_29fps_34exp_1_MMStack_Pos0.ome_384_BH_128x128_FFTDIFFS_dts_ravs.p\"\n",
    "dat = pickle.load(open(data_dir + data_file,'r'))\n",
    "ravs = dat['ravs'] \n",
    "dts  = dat['dts']"
   ]
  },
  {
   "cell_type": "code",
   "execution_count": 20,
   "metadata": {
    "collapsed": false
   },
   "outputs": [],
   "source": [
    "# This puts the ravs into the average, run this for each different data file you upload \n",
    "ravROI[0,:,:] = ravs[:,:]"
   ]
  },
  {
   "cell_type": "code",
   "execution_count": 28,
   "metadata": {
    "collapsed": true
   },
   "outputs": [],
   "source": [
    "# Average the radial averages for the ROI for the different videos, then the analysis actually begins \n",
    "ravavg = np.average(ravROI, axis=0)"
   ]
  },
  {
   "cell_type": "code",
   "execution_count": 30,
   "metadata": {
    "collapsed": false
   },
   "outputs": [],
   "source": [
    "q = np.arange(0,imDimension/2)*2*np.pi*(1./(imDimension*px*2))\n",
    "times = dts/framerate\n",
    "q_index = 6\n",
    "\n",
    "#We try to use the function `returnReasonableParams` to find reasonable initial guesses for the fitting function\n",
    "\n",
    "pars,minp,maxp,lmin,lmax,fix = ddm.returnReasonableParams(d=ravs[:,q_index], double=False, fps=framerate)\n",
    "plt.plot(times, ravs[:,q_index],'ro') #plot the data\n",
    "plt.plot(times, ddm.dTheory(times,*pars), '-k', lw=4) #see how well the initial guess performs\n",
    "ax = plt.gca()\n",
    "plt.text(0.8, 0.2, 'Index of q-value: %i' % q_index, horizontalalignment='center', verticalalignment='center', \n",
    "           transform=ax.transAxes, fontdict=font_plt)\n",
    "plt.xlabel('Time (s)');"
   ]
  },
  {
   "cell_type": "code",
   "execution_count": null,
   "metadata": {
    "collapsed": true
   },
   "outputs": [],
   "source": [
    "def two_rounds_fitting(data, times):\n",
    "    '''\n",
    "    This function does two rounds of fitting. \n",
    "    First it uses SciPy's least-squares fitting:\n",
    "        https://docs.scipy.org/doc/scipy/reference/generated/scipy.optimize.leastsq.html\n",
    "    Then, it uses the Levenberg-Marquardt method with the mpfit module. \n",
    "    '''\n",
    "    pars,minp,maxp,lmin,lmax,fix = ddm.returnReasonableParams(d=data, bg=12, double=False, fps=1./times[0])\n",
    "    #Paramters:\n",
    "    # Amplitude-0, TimeConst-1, Background-2, Alpha (strtching exp), (... same for second exp..))\n",
    "    \n",
    "    minp[3]=0.9\n",
    "    maxp[3]=1.05\n",
    "    maxp[2]=1e14\n",
    "    pars[3]=1.00\n",
    "    fix[2]=True\n",
    "    fix[3]=False\n",
    "\n",
    "    #The ddm.newFitLeastsq function does not check whether the parameters are within the\n",
    "    #  minimum and maximum bounds. It uses SciPy's optimize.leastsq. \n",
    "    fitparams_lsq,theory_lsq = ddm.newFitLeastsq(data,times,pars,minp,maxp,lmin,lmax,fix,logfit=False)\n",
    "    newPars = fitparams_lsq.copy()\n",
    "    \n",
    "    #We'll use the found parameters from SciPy's optimize.leastsq and feed them into the\n",
    "    #  Levenberg-Marquardt function. Before we do so, we'll check that none of the found\n",
    "    #  parameters are outside the min/max bounds. \n",
    "    for i,p in enumerate(fitparams_lsq):\n",
    "        if p>maxp[i]:\n",
    "            newPars[i] = maxp[i]*0.9\n",
    "        if p<minp[i]:\n",
    "            if p<0:\n",
    "                newPars[i]=abs(p)\n",
    "                if newPars[i]>maxp[i]:\n",
    "                    newPars[i] = maxp[i]*0.9\n",
    "                elif newPars[i]<minp[i]:\n",
    "                    newPars[i] = minp[i]*1.1\n",
    "            else:\n",
    "                newPars[i] = minp[i]*1.1\n",
    "                \n",
    "    #Now use the Levenberg-Marquardt function. It returns the optimized paramters (fitparamsB), the \n",
    "    #  best fit (theoryB), any error codes, and the chi-squared value (the sum of squares of the error)\n",
    "    fitparamsB, theoryB, errCodeB, chi2B = ddm.newFit(data,times,newPars,minp,maxp,lmin,lmax,fix,\n",
    "                                                      logfit=False,quiet=True,factor=0.8)\n",
    "    \n",
    "    return fitparamsB, theoryB, chi2B\n",
    "\n",
    "plt.figure(figsize=(15,15)) #Create figure of size 15x15 (inches)\n",
    "\n",
    "#Loop over four different q-values to do the fit\n",
    "for i,q_index in enumerate([3,10,16,22]):\n",
    "    fitparamsB, theoryB, chi2B = two_rounds_fitting(ravs[:,q_index], times)\n",
    "    ax = plt.subplot(2,2,i+1) #creating 4 subplots in a 2x2 grid\n",
    "    ax.loglog(times,ravs[:,q_index],'ro',alpha=0.4)\n",
    "    ax.plot(times, theoryB, '-b',lw=3)\n",
    "    ax.text(0.35,0.25,'Decay time: %.2f s' % fitparamsB[1], \n",
    "            fontdict=font_plt,horizontalalignment='left', \n",
    "            verticalalignment='center', transform=ax.transAxes)\n",
    "    ax.text(0.35,0.15,'Stretching exponent: %.2f' % fitparamsB[3], \n",
    "            fontdict=font_plt,horizontalalignment='left', \n",
    "            verticalalignment='center', transform=ax.transAxes)\n",
    "    ax.set_xlabel(\"Time (s)\", fontdict=font_plt_ax)\n",
    "    ax.set_title(\"Fit for q-index of %i. So q = %.3f 1/$\\mu$m\" % (q_index, q[q_index]), fontdict=font_plt_ax)"
   ]
  },
  {
   "cell_type": "code",
   "execution_count": null,
   "metadata": {
    "collapsed": true
   },
   "outputs": [],
   "source": [
    "#Now, we'll do that fit for *all* q-values\n",
    "\n",
    "#Initialize arrays to store the fit paramters\n",
    "tau = np.zeros_like(ravs[0,:]) #decay time\n",
    "amp = np.zeros_like(tau) #amplitude\n",
    "bg = np.zeros_like(tau) #background\n",
    "alph = np.zeros_like(tau) #alpha (stretching exponent)\n",
    "for i in range(1,len(tau)):\n",
    "    fitparams, theory, chi2 = two_rounds_fitting(ravs[:,i], times)\n",
    "    amp[i] = fitparams[0]\n",
    "    bg[i] = fitparams[2]\n",
    "    tau[i] = fitparams[1]\n",
    "    alph[i] = fitparams[3]"
   ]
  },
  {
   "cell_type": "code",
   "execution_count": 32,
   "metadata": {
    "collapsed": true
   },
   "outputs": [],
   "source": [
    "def DiffCoef (StretchExp, StretchBG, qrange, qmin, qmax):\n",
    "    nt = ddm.newt(StretchExp, StretchBG)\n",
    "    indx = (qrange>qmin) & (qrange<qmax)\n",
    "    ds = (qrange[indx]**-2) / nt[indx]\n",
    "    return ds.mean()\n",
    "\n",
    "def Diff_Fit(qrange, taurange, qmin, qmax, StExp, StBG):\n",
    "    step2 = DiffCoef(StExp, StBG, qrange, qmin, qmax)\n",
    "    fit2 = (1./step2) * 1./(qrange**2)\n",
    "    return fit2, step2\n",
    "    \n",
    "#Need to fix the function so the it will fit the data\n",
    "#define a function to plot the results\n",
    "\n",
    "def plot_results(alpha=1.8, qmin = q[2], qmax = q[10]):\n",
    "    qs = q[3:-1]\n",
    "    taus = tau[2:-1]\n",
    "    fig,ax = plt.subplots(figsize=(8,8/1.618))\n",
    "    plt.xlim((0.5,10))\n",
    "    plt.ylim((0.005,40))\n",
    "    ax.loglog(qs, tau[2:-1], 'ro')\n",
    "    ax.loglog(qs, ddm.newt(taus ,alph [2:-1]),'bo')\n",
    "    fits = Diff_Fit(qs,taus, qmin, qmax, alph[3:], bg[3:])\n",
    "    ax.plot(qs, fits[0],  '-k')\n",
    "    ax.text(0.55,0.8,'D = %.2f' % fits[1], \n",
    "        fontdict=font_plt,horizontalalignment='left', \n",
    "        verticalalignment='center', transform=ax.transAxes)"
   ]
  },
  {
   "cell_type": "code",
   "execution_count": 33,
   "metadata": {
    "collapsed": false
   },
   "outputs": [
    {
     "ename": "NameError",
     "evalue": "name 'fitparams' is not defined",
     "output_type": "error",
     "traceback": [
      "\u001b[1;31m---------------------------------------------------------------------------\u001b[0m",
      "\u001b[1;31mNameError\u001b[0m                                 Traceback (most recent call last)",
      "\u001b[1;32m<ipython-input-33-887c655726da>\u001b[0m in \u001b[0;36m<module>\u001b[1;34m()\u001b[0m\n\u001b[1;32m----> 1\u001b[1;33m \u001b[0mAvgROIs\u001b[0m\u001b[1;33m[\u001b[0m\u001b[1;34m'bestfitparms_'\u001b[0m\u001b[1;33m+\u001b[0m\u001b[0mSample\u001b[0m\u001b[1;33m[\u001b[0m\u001b[1;36m0\u001b[0m\u001b[1;33m]\u001b[0m\u001b[1;33m+\u001b[0m\u001b[1;34m'_ROI'\u001b[0m\u001b[1;33m+\u001b[0m\u001b[0mcon\u001b[0m\u001b[1;33m[\u001b[0m\u001b[1;36m0\u001b[0m\u001b[1;33m]\u001b[0m\u001b[1;33m]\u001b[0m \u001b[1;33m=\u001b[0m \u001b[0mfitparams\u001b[0m\u001b[1;33m\u001b[0m\u001b[0m\n\u001b[0m\u001b[0;32m      2\u001b[0m \u001b[0mAvgROIs\u001b[0m\u001b[1;33m[\u001b[0m\u001b[1;34m'bestfitDiffCoef_'\u001b[0m\u001b[1;33m+\u001b[0m\u001b[0mSample\u001b[0m\u001b[1;33m[\u001b[0m\u001b[1;36m0\u001b[0m\u001b[1;33m]\u001b[0m\u001b[1;33m+\u001b[0m\u001b[1;34m'_ROI'\u001b[0m\u001b[1;33m+\u001b[0m\u001b[0mcon\u001b[0m\u001b[1;33m[\u001b[0m\u001b[1;36m0\u001b[0m\u001b[1;33m]\u001b[0m\u001b[1;33m]\u001b[0m \u001b[1;33m=\u001b[0m \u001b[1;36m0\u001b[0m \u001b[1;31m#enter in the value after fitting the diffusion coefficient\u001b[0m\u001b[1;33m\u001b[0m\u001b[0m\n",
      "\u001b[1;31mNameError\u001b[0m: name 'fitparams' is not defined"
     ]
    }
   ],
   "source": [
    "# Saving the data into the pickle file\n",
    "AvgROIs['bestfitparms_ROI'+con[0]] = fitparams\n",
    "AvgROIs['bestfitDiffCoef_ROI'+con[0]] = 0 #enter in the value after fitting the diffusion coefficient"
   ]
  },
  {
   "cell_type": "code",
   "execution_count": null,
   "metadata": {
    "collapsed": true
   },
   "outputs": [],
   "source": [
    "# Do once you have averaged and fit all of the ROIs for the condition \n",
    "#pickle.dump(AvgROIs, open('ROIResults_'+Sample[0]+'.p', 'wb'))"
   ]
  }
 ],
 "metadata": {
  "kernelspec": {
   "display_name": "Python 2",
   "language": "python",
   "name": "python2"
  },
  "language_info": {
   "codemirror_mode": {
    "name": "ipython",
    "version": 2
   },
   "file_extension": ".py",
   "mimetype": "text/x-python",
   "name": "python",
   "nbconvert_exporter": "python",
   "pygments_lexer": "ipython2",
   "version": "2.7.13"
  }
 },
 "nbformat": 4,
 "nbformat_minor": 0
}
